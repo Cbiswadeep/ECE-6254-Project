{
 "cells": [
  {
   "cell_type": "code",
   "execution_count": 2,
   "metadata": {},
   "outputs": [],
   "source": [
    "import numpy as np\n",
    "import matplotlib\n",
    "import matplotlib.pyplot as plt\n",
    "from matplotlib.colors import ListedColormap\n",
    "import matplotlib.animation as animation"
   ]
  },
  {
   "cell_type": "code",
   "execution_count": 3,
   "metadata": {},
   "outputs": [],
   "source": [
    "#Create lake graphic\n",
    "#-1 = start, 0 = hole, 1 = frozen, 2 = end\n",
    "lake = [[-1,1,1,1,1],[1,1,1,0,1],[1,0,1,1,1],[1,1,0,1,0],[0,1,1,1,2]]\n",
    "lake = np.array(lake)\n",
    "xlim = len(lake)\n",
    "ylim = len(lake[0])\n",
    "\n",
    "#for moves, -1=start, 0=right, 1=up, 2=left, 3=down\n",
    "moves = [-1,0,0,0,0,3,3,2,1,-1,0,0,0,0,3,3,2,3,3,0]\n",
    "x = [None]*(len(moves))\n",
    "y = [None]*(len(moves))\n",
    "xstart = 0.5\n",
    "ystart = ylim-0.5\n",
    "\n",
    "i = 0\n",
    "for m in moves: \n",
    "    if m == 0:\n",
    "        x[i] = x[i-1]+1\n",
    "        y[i] = y[i-1]\n",
    "    elif m == 1:\n",
    "        x[i] = x[i-1]\n",
    "        y[i] = y[i-1]+1\n",
    "    elif m == 2:\n",
    "        x[i] = x[i-1]-1\n",
    "        y[i] = y[i-1]\n",
    "    elif m == 3:\n",
    "        x[i] = x[i-1]\n",
    "        y[i] = y[i-1]-1\n",
    "    else:\n",
    "        x[i] = xstart\n",
    "        y[i] = ystart\n",
    "    i+=1"
   ]
  },
  {
   "cell_type": "code",
   "execution_count": 6,
   "metadata": {},
   "outputs": [
    {
     "data": {
      "image/png": "[encoded data removed]",
      "text/plain": [
       "<Figure size 432x288 with 1 Axes>"
      ]
     },
     "metadata": {
      "needs_background": "light"
     },
     "output_type": "display_data"
    }
   ],
   "source": [
    "fig,ax = plt.subplots()\n",
    "plt.xlim(0,xlim)\n",
    "plt.ylim(0,ylim)\n",
    "plt.axis('square')\n",
    "colormap = ListedColormap(['g','b','c','y'])\n",
    "c = ax.pcolor(np.linspace(0,xlim,xlim+1),np.linspace(0,ylim,ylim+1),list(lake[::-1]),cmap=colormap,alpha=0.4)       \n",
    "\n",
    "line, = ax.plot(x[0],y[0],'ko-')\n",
    "\n",
    "def animate(j):\n",
    "    if j == 0:\n",
    "        line.set_xdata(x[j])\n",
    "        line.set_ydata(y[j])\n",
    "    else:\n",
    "        k=j\n",
    "        while k > 0:\n",
    "            if moves[k] == -1:\n",
    "                break\n",
    "            k = k-1\n",
    "        line.set_xdata(x[k:j+1])\n",
    "        line.set_ydata(y[k:j+1])\n",
    "    return line,\n",
    "\n",
    "\n",
    "ani = animation.FuncAnimation(fig, animate, interval=1, save_count=len(x))\n",
    "\n",
    "plt.rcParams['animation.ffmpeg_path'] ='C:\\\\Program Files\\\\Python\\\\ffmpeg-20200713-7772666-win64-static\\\\bin\\\\ffmpeg.exe'\n",
    "FFwriter=animation.FFMpegWriter(fps=10, extra_args=['-vcodec', 'libx264'])\n",
    "ani.save('Visualization.mp4', writer=FFwriter)\n",
    "\n",
    "plt.show()\n"
   ]
  },
  {
   "cell_type": "code",
   "execution_count": null,
   "metadata": {},
   "outputs": [],
   "source": []
  }
 ],
 "metadata": {
  "kernelspec": {
   "display_name": "Python 3",
   "language": "python",
   "name": "python3"
  },
  "language_info": {
   "codemirror_mode": {
    "name": "ipython",
    "version": 3
   },
   "file_extension": ".py",
   "mimetype": "text/x-python",
   "name": "python",
   "nbconvert_exporter": "python",
   "pygments_lexer": "ipython3",
   "version": "3.7.6"
  }
 },
 "nbformat": 4,
 "nbformat_minor": 4
}
